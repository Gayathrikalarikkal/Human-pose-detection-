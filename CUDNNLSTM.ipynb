{
  "nbformat": 4,
  "nbformat_minor": 0,
  "metadata": {
    "colab": {
      "name": "CUDNNLSTM.ipynb",
      "provenance": [],
      "collapsed_sections": [],
      "machine_shape": "hm"
    },
    "kernelspec": {
      "name": "python3",
      "display_name": "Python 3"
    },
    "language_info": {
      "name": "python"
    },
    "accelerator": "GPU",
    "gpuClass": "standard"
  },
  "cells": [
    {
      "cell_type": "code",
      "execution_count": 1,
      "metadata": {
        "id": "eg7DZmNmn10V"
      },
      "outputs": [],
      "source": [
        "#Fast LSTM backed by CuDNN\n",
        "from keras.preprocessing.image import ImageDataGenerator\n",
        "from keras.applications.vgg19 import VGG19\n",
        "from keras.layers import Flatten, Dense, Dropout, Conv2D, MaxPool2D,BatchNormalization, LSTM, CuDNNLSTM, MaxPooling2D\n",
        "from keras.models import Sequential\n",
        "from keras import regularizers\n",
        "import keras\n",
        "\n",
        "from keras.layers import TimeDistributed\n",
        "from keras.layers import GlobalAveragePooling2D\n",
        "from tensorflow.keras.applications import MobileNetV2\n",
        "from keras.callbacks import ModelCheckpoint\n",
        "from tensorflow.keras.optimizers import Adam\n",
        "import tensorflow as tf\n",
        "\n",
        "import matplotlib.pyplot as plt\n",
        "import cv2\n",
        "\n",
        "\n"
      ]
    },
    {
      "cell_type": "code",
      "source": [
        "from google.colab import drive\n",
        "drive.mount('/content/drive')"
      ],
      "metadata": {
        "colab": {
          "base_uri": "https://localhost:8080/"
        },
        "id": "CZu_v18UUjmC",
        "outputId": "cb45cb8c-7dcb-4234-a61e-ce6c24688796"
      },
      "execution_count": 2,
      "outputs": [
        {
          "output_type": "stream",
          "name": "stdout",
          "text": [
            "Mounted at /content/drive\n"
          ]
        }
      ]
    },
    {
      "cell_type": "code",
      "source": [
        "# Initialize image data generator with rescaling\n",
        "train_data_gen = ImageDataGenerator(rescale=1./255)\n",
        "validation_data_gen = ImageDataGenerator(rescale=1./255)\n",
        "\n",
        "# Preprocess all test images\n",
        "train_generator = train_data_gen.flow_from_directory(\n",
        "        '/content/drive/MyDrive/Yoga Dataset 1/TRAIN',\n",
        "        target_size=(224, 224),\n",
        "        batch_size=16,\n",
        "#         color_mode=\"RGB\",\n",
        "        class_mode='categorical')\n",
        "\n",
        "# Preprocess all train images\n",
        "validation_generator = validation_data_gen.flow_from_directory(\n",
        "        '/content/drive/MyDrive/Yoga Dataset 1/TEST',\n",
        "        target_size=(224, 224),\n",
        "        batch_size=16,\n",
        "#         color_mode=\"RGB\",\n",
        "        class_mode='categorical')"
      ],
      "metadata": {
        "id": "frtCIJLa08Vt",
        "colab": {
          "base_uri": "https://localhost:8080/"
        },
        "outputId": "bca7b7f4-a769-4198-e55d-dc53cbd660ff"
      },
      "execution_count": 3,
      "outputs": [
        {
          "output_type": "stream",
          "name": "stdout",
          "text": [
            "Found 1086 images belonging to 5 classes.\n",
            "Found 484 images belonging to 5 classes.\n"
          ]
        }
      ]
    },
    {
      "cell_type": "code",
      "source": [
        "dim = (224,224) # for MobileNetV2\n",
        "n_sequence = 8 # for LSTM\n",
        "n_channels = 3 # color channel(RGB)\n",
        "n_output = 5 #18 # number of output class"
      ],
      "metadata": {
        "id": "X8ogcT71sBwt"
      },
      "execution_count": 4,
      "outputs": []
    },
    {
      "cell_type": "code",
      "source": [
        "model = Sequential()    \n",
        "model.add(tf.keras.layers.Reshape((1, 224, 224, 3), input_shape=(224, 224, 3)))\n",
        "model.add( \n",
        "    TimeDistributed(\n",
        "        MobileNetV2(weights='imagenet',include_top=False), \n",
        "        input_shape=(n_sequence, *dim, n_channels)\n",
        "    )\n",
        ")\n",
        "model.add(\n",
        "    TimeDistributed(\n",
        "        GlobalAveragePooling2D()\n",
        "    )\n",
        ")\n",
        "model.add(CuDNNLSTM(128,return_sequences = True))\n",
        "model.add(Dropout(0.2))\n",
        "\n",
        "model.add(CuDNNLSTM(128))\n",
        "model.add(Dropout(0.2))\n",
        "\n",
        "model.add(Dense(32,activation = 'relu'))\n",
        "model.add(Dropout(0.2))\n",
        "\n",
        "model.add(Dense(5,activation = 'softmax'))\n",
        "\n",
        "cv2.ocl.setUseOpenCL(False)\n",
        "\n",
        "\n"
      ],
      "metadata": {
        "id": "Ea6XkToOsHhS",
        "colab": {
          "base_uri": "https://localhost:8080/"
        },
        "outputId": "6c8b1690-30cf-491f-a7d4-95f2059bbd8b"
      },
      "execution_count": 5,
      "outputs": [
        {
          "output_type": "stream",
          "name": "stdout",
          "text": [
            "WARNING:tensorflow:`input_shape` is undefined or non-square, or `rows` is not in [96, 128, 160, 192, 224]. Weights for input shape (224, 224) will be loaded as the default.\n",
            "Downloading data from https://storage.googleapis.com/tensorflow/keras-applications/mobilenet_v2/mobilenet_v2_weights_tf_dim_ordering_tf_kernels_1.0_224_no_top.h5\n",
            "9412608/9406464 [==============================] - 0s 0us/step\n",
            "9420800/9406464 [==============================] - 0s 0us/step\n"
          ]
        }
      ]
    },
    {
      "cell_type": "code",
      "source": [
        "model.compile(loss='categorical_crossentropy', optimizer=Adam(learning_rate=0.0001, decay=1e-6), metrics=['accuracy'])\n",
        "epochs = 7 \n",
        "batch_size = 16"
      ],
      "metadata": {
        "id": "fkbGZVnTZRX-"
      },
      "execution_count": 7,
      "outputs": []
    },
    {
      "cell_type": "code",
      "source": [
        "model.summary()"
      ],
      "metadata": {
        "colab": {
          "base_uri": "https://localhost:8080/"
        },
        "id": "6g0CzIyvZXcv",
        "outputId": "ce80d8c1-f710-4ad6-d010-bdb0e22ccbcd"
      },
      "execution_count": 8,
      "outputs": [
        {
          "output_type": "stream",
          "name": "stdout",
          "text": [
            "Model: \"sequential\"\n",
            "_________________________________________________________________\n",
            " Layer (type)                Output Shape              Param #   \n",
            "=================================================================\n",
            " reshape (Reshape)           (None, 1, 224, 224, 3)    0         \n",
            "                                                                 \n",
            " time_distributed (TimeDistr  (None, 1, 7, 7, 1280)    2257984   \n",
            " ibuted)                                                         \n",
            "                                                                 \n",
            " time_distributed_1 (TimeDis  (None, 1, 1280)          0         \n",
            " tributed)                                                       \n",
            "                                                                 \n",
            " cu_dnnlstm (CuDNNLSTM)      (None, 1, 128)            721920    \n",
            "                                                                 \n",
            " dropout (Dropout)           (None, 1, 128)            0         \n",
            "                                                                 \n",
            " cu_dnnlstm_1 (CuDNNLSTM)    (None, 128)               132096    \n",
            "                                                                 \n",
            " dropout_1 (Dropout)         (None, 128)               0         \n",
            "                                                                 \n",
            " dense (Dense)               (None, 32)                4128      \n",
            "                                                                 \n",
            " dropout_2 (Dropout)         (None, 32)                0         \n",
            "                                                                 \n",
            " dense_1 (Dense)             (None, 5)                 165       \n",
            "                                                                 \n",
            "=================================================================\n",
            "Total params: 3,116,293\n",
            "Trainable params: 3,082,181\n",
            "Non-trainable params: 34,112\n",
            "_________________________________________________________________\n"
          ]
        }
      ]
    },
    {
      "cell_type": "code",
      "source": [
        "from PIL import ImageFile\n",
        "ImageFile.LOAD_TRUNCATED_IMAGES = True"
      ],
      "metadata": {
        "id": "CmnbG2y_WyvD"
      },
      "execution_count": 9,
      "outputs": []
    },
    {
      "cell_type": "code",
      "source": [
        "history = model.fit(train_generator, epochs = epochs,validation_data = validation_generator)"
      ],
      "metadata": {
        "colab": {
          "base_uri": "https://localhost:8080/"
        },
        "id": "ZcgCmlFdXOIx",
        "outputId": "1de93542-e090-4917-fbdc-1f87e5c09ce1"
      },
      "execution_count": 10,
      "outputs": [
        {
          "output_type": "stream",
          "name": "stdout",
          "text": [
            "Epoch 1/7\n"
          ]
        },
        {
          "output_type": "stream",
          "name": "stderr",
          "text": [
            "/usr/local/lib/python3.7/dist-packages/PIL/Image.py:960: UserWarning: Palette images with Transparency expressed in bytes should be converted to RGBA images\n",
            "  \"Palette images with Transparency expressed in bytes should be \"\n"
          ]
        },
        {
          "output_type": "stream",
          "name": "stdout",
          "text": [
            "68/68 [==============================] - ETA: 0s - loss: 1.5090 - accuracy: 0.4162"
          ]
        },
        {
          "output_type": "stream",
          "name": "stderr",
          "text": [
            "/usr/local/lib/python3.7/dist-packages/PIL/TiffImagePlugin.py:770: UserWarning: Possibly corrupt EXIF data.  Expecting to read 11 bytes but only got 10. Skipping tag 42037\n",
            "  \" Skipping tag %s\" % (size, len(data), tag)\n"
          ]
        },
        {
          "output_type": "stream",
          "name": "stdout",
          "text": [
            "\b\b\b\b\b\b\b\b\b\b\b\b\b\b\b\b\b\b\b\b\b\b\b\b\b\b\b\b\b\b\b\b\b\b\b\b\b\b\b\b\b\b\b\b\b\b\b\b\b\b\b\b\b\b\b\b\b\b\b\b\b\b\b\b\b\b\b\b\b\b\b\b\b\b\b\b\b\b\b\b\b\b\r68/68 [==============================] - 442s 6s/step - loss: 1.5090 - accuracy: 0.4162 - val_loss: 1.1726 - val_accuracy: 0.7500\n",
            "Epoch 2/7\n",
            "68/68 [==============================] - 33s 493ms/step - loss: 0.9274 - accuracy: 0.7974 - val_loss: 0.4860 - val_accuracy: 0.9401\n",
            "Epoch 3/7\n",
            "68/68 [==============================] - 33s 492ms/step - loss: 0.4305 - accuracy: 0.9411 - val_loss: 0.2509 - val_accuracy: 0.9628\n",
            "Epoch 4/7\n",
            "68/68 [==============================] - 34s 492ms/step - loss: 0.2059 - accuracy: 0.9788 - val_loss: 0.1496 - val_accuracy: 0.9711\n",
            "Epoch 5/7\n",
            "68/68 [==============================] - 34s 501ms/step - loss: 0.1272 - accuracy: 0.9862 - val_loss: 0.1353 - val_accuracy: 0.9628\n",
            "Epoch 6/7\n",
            "68/68 [==============================] - 34s 495ms/step - loss: 0.0871 - accuracy: 0.9908 - val_loss: 0.1075 - val_accuracy: 0.9731\n",
            "Epoch 7/7\n",
            "68/68 [==============================] - 33s 495ms/step - loss: 0.1028 - accuracy: 0.9843 - val_loss: 0.1714 - val_accuracy: 0.9504\n"
          ]
        }
      ]
    },
    {
      "cell_type": "code",
      "source": [
        "train_loss, train_acc = model.evaluate(train_generator)\n",
        "test_loss, test_acc   = model.evaluate(validation_generator)\n",
        "print(\"final train accuracy = {:.2f} , validation accuracy = {:.2f}\".format(train_acc*100, test_acc*100))"
      ],
      "metadata": {
        "id": "wo9WTaibDuVg",
        "outputId": "49bead38-768f-4e36-92b7-b0192706aa24",
        "colab": {
          "base_uri": "https://localhost:8080/"
        }
      },
      "execution_count": 11,
      "outputs": [
        {
          "output_type": "stream",
          "name": "stderr",
          "text": [
            "/usr/local/lib/python3.7/dist-packages/PIL/Image.py:960: UserWarning: Palette images with Transparency expressed in bytes should be converted to RGBA images\n",
            "  \"Palette images with Transparency expressed in bytes should be \"\n"
          ]
        },
        {
          "output_type": "stream",
          "name": "stdout",
          "text": [
            "68/68 [==============================] - 19s 275ms/step - loss: 0.1053 - accuracy: 0.9650\n",
            " 8/31 [======>.......................] - ETA: 8s - loss: 0.2643 - accuracy: 0.9297"
          ]
        },
        {
          "output_type": "stream",
          "name": "stderr",
          "text": [
            "/usr/local/lib/python3.7/dist-packages/PIL/TiffImagePlugin.py:770: UserWarning: Possibly corrupt EXIF data.  Expecting to read 11 bytes but only got 10. Skipping tag 42037\n",
            "  \" Skipping tag %s\" % (size, len(data), tag)\n"
          ]
        },
        {
          "output_type": "stream",
          "name": "stdout",
          "text": [
            "31/31 [==============================] - 13s 430ms/step - loss: 0.1714 - accuracy: 0.9504\n",
            "final train accuracy = 96.50 , validation accuracy = 95.04\n"
          ]
        }
      ]
    },
    {
      "cell_type": "code",
      "source": [
        "model.save('YogaNet_model_1_1.h5')"
      ],
      "metadata": {
        "id": "A3jUeHMED_bn"
      },
      "execution_count": 12,
      "outputs": []
    },
    {
      "cell_type": "code",
      "source": [
        "import numpy as np\n",
        "from PIL import Image\n",
        "from keras.preprocessing import image\n",
        "\n",
        "from keras.models import load_model\n",
        "from keras.applications.vgg16 import preprocess_input\n",
        "model = load_model('YogaNet_model_1_1.h5')\n",
        "img = image.load_img('/content/drive/MyDrive/Yoga Dataset 1/TEST/warrior2/00000000.jpg', target_size=(224, 224))\n",
        "x = image.img_to_array(img)\n",
        "x = np.expand_dims(x, axis=0)\n",
        "img_data = preprocess_input(x)\n",
        "classes = model.predict(img_data)\n",
        "print(classes) "
      ],
      "metadata": {
        "id": "PpDPJrMkEGw7",
        "outputId": "c7b186e8-493a-4e7c-f30f-7b31da66f750",
        "colab": {
          "base_uri": "https://localhost:8080/"
        }
      },
      "execution_count": 29,
      "outputs": [
        {
          "output_type": "stream",
          "name": "stdout",
          "text": [
            "[[0.00146739 0.00670522 0.01378938 0.00289364 0.9751443 ]]\n"
          ]
        }
      ]
    },
    {
      "cell_type": "code",
      "source": [
        "hist = history.history"
      ],
      "metadata": {
        "id": "jeMgDEGTsJrR"
      },
      "execution_count": 19,
      "outputs": []
    },
    {
      "cell_type": "code",
      "source": [
        "hist = history.history\n",
        "plt.plot(hist[\"accuracy\"])\n",
        "plt.plot(hist[\"val_accuracy\"])\n",
        "plt.title(\"Accuracy plot\")\n",
        "plt.legend([\"train\",\"test\"])\n",
        "plt.xlabel(\"epoch\")\n",
        "plt.ylabel(\"accuracy\")\n",
        "plt.savefig(\"mobilenetCuDNNLSTMv3_accuracy.png\")"
      ],
      "metadata": {
        "id": "PXCqi9PbsMzL",
        "colab": {
          "base_uri": "https://localhost:8080/",
          "height": 295
        },
        "outputId": "6b5081a0-83f6-4da6-c2d7-faf3c29d3c69"
      },
      "execution_count": 21,
      "outputs": [
        {
          "output_type": "display_data",
          "data": {
            "text/plain": [
              "<Figure size 432x288 with 1 Axes>"
            ],
            "image/png": "[encoded data removed]"
          },
          "metadata": {
            "needs_background": "light"
          }
        }
      ]
    },
    {
      "cell_type": "code",
      "source": [
        "plt.plot(hist[\"loss\"])\n",
        "plt.plot(hist[\"val_loss\"])\n",
        "plt.title(\"Accuracy loss\")\n",
        "plt.legend([\"train\",\"test\"])\n",
        "plt.xlabel(\"epoch\")\n",
        "plt.ylabel(\"loss\")\n",
        "plt.savefig(\"mobilenetCuDNNLSTMv3_loss.png\")\n"
      ],
      "metadata": {
        "id": "w2qrWoIbsPVy",
        "colab": {
          "base_uri": "https://localhost:8080/",
          "height": 295
        },
        "outputId": "03b7db59-7659-4630-be01-1ac9cc74f9db"
      },
      "execution_count": 22,
      "outputs": [
        {
          "output_type": "display_data",
          "data": {
            "text/plain": [
              "<Figure size 432x288 with 1 Axes>"
            ],
            "image/png": "[encoded data removed]"
          },
          "metadata": {
            "needs_background": "light"
          }
        }
      ]
    },
    {
      "cell_type": "code",
      "source": [
        "import pandas as pd\n",
        "import numpy as np\n",
        "import sklearn.metrics as metrics\n",
        "predictions = model.predict_generator(validation_generator)\n",
        "# Get most likely class\n",
        "predicted_classes = np.argmax(predictions, axis=1)\n",
        "true_classes = validation_generator.classes\n",
        "class_labels = list(validation_generator.class_indices.keys())   \n",
        "report = metrics.classification_report(true_classes, predicted_classes, target_names=class_labels)\n",
        "print(report)\n",
        "\n",
        "import seaborn as sns\n",
        "from sklearn.metrics import confusion_matrix,classification_report\n",
        "plt.figure(figsize=(8, 6))\n",
        "sns.heatmap(pd.DataFrame(confusion_matrix(true_classes, predicted_classes)), annot=True, fmt='d', cmap='YlGnBu', alpha=0.8, vmin=0)"
      ],
      "metadata": {
        "id": "X75R8acgG2xM",
        "outputId": "1d19068a-26d1-4190-d48a-84496c293492",
        "colab": {
          "base_uri": "https://localhost:8080/",
          "height": 689
        }
      },
      "execution_count": 23,
      "outputs": [
        {
          "output_type": "stream",
          "name": "stderr",
          "text": [
            "/usr/local/lib/python3.7/dist-packages/ipykernel_launcher.py:4: UserWarning: `Model.predict_generator` is deprecated and will be removed in a future version. Please use `Model.predict`, which supports generators.\n",
            "  after removing the cwd from sys.path.\n",
            "/usr/local/lib/python3.7/dist-packages/PIL/TiffImagePlugin.py:770: UserWarning: Possibly corrupt EXIF data.  Expecting to read 11 bytes but only got 10. Skipping tag 42037\n",
            "  \" Skipping tag %s\" % (size, len(data), tag)\n"
          ]
        },
        {
          "output_type": "stream",
          "name": "stdout",
          "text": [
            "              precision    recall  f1-score   support\n",
            "\n",
            "     downdog       0.20      0.21      0.20        97\n",
            "     goddess       0.17      0.13      0.15        82\n",
            "       plank       0.23      0.23      0.23       115\n",
            "        tree       0.17      0.19      0.18        78\n",
            "    warrior2       0.27      0.29      0.28       112\n",
            "\n",
            "    accuracy                           0.21       484\n",
            "   macro avg       0.21      0.21      0.21       484\n",
            "weighted avg       0.21      0.21      0.21       484\n",
            "\n"
          ]
        },
        {
          "output_type": "execute_result",
          "data": {
            "text/plain": [
              "<matplotlib.axes._subplots.AxesSubplot at 0x7f615e2f2850>"
            ]
          },
          "metadata": {},
          "execution_count": 23
        },
        {
          "output_type": "display_data",
          "data": {
            "text/plain": [
              "<Figure size 576x432 with 2 Axes>"
            ],
            "image/png": "[encoded data removed]"
          },
          "metadata": {
            "needs_background": "light"
          }
        }
      ]
    },
    {
      "cell_type": "code",
      "source": [
        "label = np.argmax(classes)\n",
        "print(label)"
      ],
      "metadata": {
        "id": "-5xpC1WHG5GF",
        "outputId": "58475b8e-2ae1-4ce2-fb24-588556eafd6b",
        "colab": {
          "base_uri": "https://localhost:8080/"
        }
      },
      "execution_count": 30,
      "outputs": [
        {
          "output_type": "stream",
          "name": "stdout",
          "text": [
            "4\n"
          ]
        }
      ]
    },
    {
      "cell_type": "code",
      "source": [
        "if label==0:\n",
        "  {\n",
        "    print(\"The Input image belongs to DownDog Yoga Pose\")\n",
        "  }\n",
        "\n",
        "elif label==1:\n",
        "  {\n",
        "    print(\"The Input image belongs to Goddess Yoga Pose\")   \n",
        "  }\n",
        "\n",
        "elif label==2:\n",
        "  {\n",
        "    print(\"The Input image belongs to Plank Yoga Pose\")   \n",
        "  }\n",
        "\n",
        "elif label==3:\n",
        "  {\n",
        "    print(\"The Input image belongs to Tree Yoga Pose\")   \n",
        "  }\n",
        "\n",
        "elif label==4:\n",
        "  {\n",
        "    print(\"The Input image belongs to WarriorII Yoga Pose\")   \n",
        "  }\n",
        "\n",
        "else:\n",
        "  print(\"Unkown Pose\")\n"
      ],
      "metadata": {
        "id": "Sxd_yPu2PCi7",
        "outputId": "601fea75-1fca-4533-dd92-79ecc612b487",
        "colab": {
          "base_uri": "https://localhost:8080/"
        }
      },
      "execution_count": 38,
      "outputs": [
        {
          "output_type": "stream",
          "name": "stdout",
          "text": [
            "The Input image belongs to WarriorII Yoga Pose\n"
          ]
        }
      ]
    },
    {
      "cell_type": "code",
      "source": [
        ""
      ],
      "metadata": {
        "id": "xEbaYc_iPtpW"
      },
      "execution_count": null,
      "outputs": []
    }
  ]
}