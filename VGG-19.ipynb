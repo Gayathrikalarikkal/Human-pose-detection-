{
  "cells": [
    {
      "cell_type": "code",
      "execution_count": 3,
      "metadata": {
        "id": "RkcC3yJ3XUGo"
      },
      "outputs": [],
      "source": [
        "import os\n",
        "import tensorflow as tf\n",
        "from tensorflow import keras\n",
        "from tensorflow.keras import layers\n",
        "from tensorflow.keras import Model\n",
        "from tensorflow.keras.preprocessing.image import ImageDataGenerator, img_to_array, load_img, array_to_img\n",
        "import zipfile\n",
        "import matplotlib.pyplot as plt\n",
        "import numpy as np\n",
        "import pandas as pd\n",
        "from PIL import ImageFile\n",
        "ImageFile.LOAD_TRUNCATED_IMAGES = True\n",
        "import shutil\n",
        "from tensorflow.keras.applications import VGG19\n",
        "\n",
        "\n",
        "from sklearn.metrics import classification_report, confusion_matrix\n",
        "\n",
        "import seaborn as sns"
      ]
    },
    {
      "cell_type": "code",
      "execution_count": 4,
      "metadata": {
        "colab": {
          "base_uri": "https://localhost:8080/"
        },
        "id": "j0I579liGPyP",
        "outputId": "caba2ddb-7645-4495-ec03-240f1271724f"
      },
      "outputs": [
        {
          "output_type": "stream",
          "name": "stdout",
          "text": [
            "Drive already mounted at /content/drive; to attempt to forcibly remount, call drive.mount(\"/content/drive\", force_remount=True).\n"
          ]
        }
      ],
      "source": [
        "from google.colab import drive\n",
        "drive.mount('/content/drive')"
      ]
    },
    {
      "cell_type": "code",
      "execution_count": 5,
      "metadata": {
        "id": "hoxG_KPEXj-D"
      },
      "outputs": [],
      "source": [
        "\n",
        "train_dir= \"/content/drive/MyDrive/Yoga Dataset 1/TRAIN\"\n",
        "\n",
        "val_dir = \"/content/drive/MyDrive/Yoga Dataset 1/TEST\""
      ]
    },
    {
      "cell_type": "code",
      "execution_count": 6,
      "metadata": {
        "id": "n06p8ZaoX4ED"
      },
      "outputs": [],
      "source": [
        "labels = []\n",
        "train_counts = []\n",
        "for dirname in os.listdir(train_dir):\n",
        "    labels.append(dirname)\n",
        "    image_count = 0\n",
        "    for img in os.listdir(os.path.join(train_dir,dirname)):\n",
        "        image_count +=1\n",
        "    train_counts.append(image_count)"
      ]
    },
    {
      "cell_type": "code",
      "execution_count": 7,
      "metadata": {
        "colab": {
          "base_uri": "https://localhost:8080/"
        },
        "id": "qBbAzV0aX-k2",
        "outputId": "587b1c67-0a12-4eea-a397-79292adacb5e"
      },
      "outputs": [
        {
          "output_type": "stream",
          "name": "stdout",
          "text": [
            "['goddess', 'downdog', 'tree', 'plank', 'warrior2']\n",
            "[180, 223, 165, 266, 252]\n"
          ]
        }
      ],
      "source": [
        "print(labels)\n",
        "print(train_counts)"
      ]
    },
    {
      "cell_type": "code",
      "execution_count": 8,
      "metadata": {
        "id": "6D9nSm1fYLe7"
      },
      "outputs": [],
      "source": [
        "train_datagen = ImageDataGenerator(rescale=1./255,shear_range=0.2,zoom_range=0.2,horizontal_flip=True)\n",
        "\n",
        "valid_datagen = ImageDataGenerator(rescale=1. / 255)"
      ]
    },
    {
      "cell_type": "code",
      "execution_count": 9,
      "metadata": {
        "colab": {
          "base_uri": "https://localhost:8080/"
        },
        "id": "EcpU3l7BYtqx",
        "outputId": "62287342-51cf-4f86-dc52-de6aedd0a885"
      },
      "outputs": [
        {
          "output_type": "stream",
          "name": "stdout",
          "text": [
            "Found 1086 images belonging to 5 classes.\n",
            "Found 484 images belonging to 5 classes.\n"
          ]
        }
      ],
      "source": [
        "train_generator = train_datagen.flow_from_directory(train_dir,\n",
        "                                                   batch_size=16,\n",
        "                                            class_mode='categorical',\n",
        "                                            target_size=(150, 150),\n",
        "                                                    shuffle=True)\n",
        "\n",
        "\n",
        "valid_generator = valid_datagen.flow_from_directory(val_dir,\n",
        "                                                    batch_size=16,\n",
        "                                            class_mode='categorical',\n",
        "                                                target_size=(150, 150),\n",
        "                                                    shuffle=False)"
      ]
    },
    {
      "cell_type": "code",
      "execution_count": 10,
      "metadata": {
        "colab": {
          "base_uri": "https://localhost:8080/"
        },
        "id": "anizvOiJY0Vr",
        "outputId": "1444fdbf-bc26-457e-e020-34b1b787badf"
      },
      "outputs": [
        {
          "output_type": "stream",
          "name": "stdout",
          "text": [
            "{0: 1.21, 1: 0.97, 2: 1.32, 3: 0.82, 4: 0.86}\n"
          ]
        }
      ],
      "source": [
        "class_weights = []\n",
        "total_samples = train_generator.samples\n",
        "total_classes = len(train_generator.class_indices)\n",
        "for ele in train_counts:\n",
        "    result = round(total_samples / (total_classes * ele),2)\n",
        "    class_weights.append(result)\n",
        "\n",
        "class_weights = dict(zip(train_generator.class_indices.values(),class_weights))\n",
        "print(class_weights)"
      ]
    },
    {
      "cell_type": "code",
      "execution_count": 11,
      "metadata": {
        "id": "a-x75oGOY8QE"
      },
      "outputs": [],
      "source": [
        "tf.keras.backend.clear_session()\n",
        "tf.random.set_seed(42)\n",
        "np.random.seed(42)# used to initialize random number generator"
      ]
    },
    {
      "cell_type": "code",
      "execution_count": 12,
      "metadata": {
        "id": "RLfgNx31ZA0o"
      },
      "outputs": [],
      "source": [
        "def custom_model():\n",
        "    \n",
        "    \n",
        "    cus_model = VGG19(input_shape = (150,150,3),        \n",
        "                         weights='imagenet', \n",
        "                         include_top= False,)# Lets us to select if we want the last dense layer or not\n",
        "    \n",
        "   #Using pre-trained weights from imagenet \n",
        "    for layer in cus_model.layers:\n",
        "        layer.trainable = False# The Freezing of the layer\n",
        "\n",
        "    # Adding layers in a sequential manner\n",
        "    x = layers.Flatten()(cus_model.output)\n",
        "\n",
        "    x = layers.Dense(512, activation='relu')(x)\n",
        "    \n",
        "    x = layers.Dropout(0.2)(x)\n",
        " \n",
        "    x = layers.Dense(5, activation='softmax')(x)\n",
        "\n",
        "    model = Model(cus_model.input,x)\n",
        "    \n",
        "    return model"
      ]
    },
    {
      "cell_type": "code",
      "execution_count": 13,
      "metadata": {
        "colab": {
          "base_uri": "https://localhost:8080/"
        },
        "id": "8dngBIr7ZIbV",
        "outputId": "cf2da101-9280-4235-9d99-4a2430462639"
      },
      "outputs": [
        {
          "output_type": "stream",
          "name": "stdout",
          "text": [
            "Model: \"model\"\n",
            "_________________________________________________________________\n",
            " Layer (type)                Output Shape              Param #   \n",
            "=================================================================\n",
            " input_1 (InputLayer)        [(None, 150, 150, 3)]     0         \n",
            "                                                                 \n",
            " block1_conv1 (Conv2D)       (None, 150, 150, 64)      1792      \n",
            "                                                                 \n",
            " block1_conv2 (Conv2D)       (None, 150, 150, 64)      36928     \n",
            "                                                                 \n",
            " block1_pool (MaxPooling2D)  (None, 75, 75, 64)        0         \n",
            "                                                                 \n",
            " block2_conv1 (Conv2D)       (None, 75, 75, 128)       73856     \n",
            "                                                                 \n",
            " block2_conv2 (Conv2D)       (None, 75, 75, 128)       147584    \n",
            "                                                                 \n",
            " block2_pool (MaxPooling2D)  (None, 37, 37, 128)       0         \n",
            "                                                                 \n",
            " block3_conv1 (Conv2D)       (None, 37, 37, 256)       295168    \n",
            "                                                                 \n",
            " block3_conv2 (Conv2D)       (None, 37, 37, 256)       590080    \n",
            "                                                                 \n",
            " block3_conv3 (Conv2D)       (None, 37, 37, 256)       590080    \n",
            "                                                                 \n",
            " block3_conv4 (Conv2D)       (None, 37, 37, 256)       590080    \n",
            "                                                                 \n",
            " block3_pool (MaxPooling2D)  (None, 18, 18, 256)       0         \n",
            "                                                                 \n",
            " block4_conv1 (Conv2D)       (None, 18, 18, 512)       1180160   \n",
            "                                                                 \n",
            " block4_conv2 (Conv2D)       (None, 18, 18, 512)       2359808   \n",
            "                                                                 \n",
            " block4_conv3 (Conv2D)       (None, 18, 18, 512)       2359808   \n",
            "                                                                 \n",
            " block4_conv4 (Conv2D)       (None, 18, 18, 512)       2359808   \n",
            "                                                                 \n",
            " block4_pool (MaxPooling2D)  (None, 9, 9, 512)         0         \n",
            "                                                                 \n",
            " block5_conv1 (Conv2D)       (None, 9, 9, 512)         2359808   \n",
            "                                                                 \n",
            " block5_conv2 (Conv2D)       (None, 9, 9, 512)         2359808   \n",
            "                                                                 \n",
            " block5_conv3 (Conv2D)       (None, 9, 9, 512)         2359808   \n",
            "                                                                 \n",
            " block5_conv4 (Conv2D)       (None, 9, 9, 512)         2359808   \n",
            "                                                                 \n",
            " block5_pool (MaxPooling2D)  (None, 4, 4, 512)         0         \n",
            "                                                                 \n",
            " flatten (Flatten)           (None, 8192)              0         \n",
            "                                                                 \n",
            " dense (Dense)               (None, 512)               4194816   \n",
            "                                                                 \n",
            " dropout (Dropout)           (None, 512)               0         \n",
            "                                                                 \n",
            " dense_1 (Dense)             (None, 5)                 2565      \n",
            "                                                                 \n",
            "=================================================================\n",
            "Total params: 24,221,765\n",
            "Trainable params: 4,197,381\n",
            "Non-trainable params: 20,024,384\n",
            "_________________________________________________________________\n"
          ]
        }
      ],
      "source": [
        "model = custom_model()\n",
        "model.summary()"
      ]
    },
    {
      "cell_type": "code",
      "execution_count": 14,
      "metadata": {
        "id": "xomoxM-iar9K"
      },
      "outputs": [],
      "source": [
        "def exponential_decay(lr0, s):\n",
        "    def exponential_decay_fn(epoch):\n",
        "        return lr0 * 0.1 ** (epoch / s)\n",
        "\n",
        "    return exponential_decay_fn\n",
        "\n",
        "\n",
        "exponential_decay_fn = exponential_decay(lr0=0.0009, s=5)\n",
        "\n",
        "lr_scheduler_ed = keras.callbacks.LearningRateScheduler(exponential_decay_fn)\n",
        "\n",
        "# Checkpoint callback\n",
        "# checkpoint_cb = keras.callbacks.ModelCheckpoint(\"yoga_model.h5\", save_best_only=True)\n",
        "\n",
        "# Early stopping callback\n",
        "early_stopping_m = keras.callbacks.EarlyStopping(monitor='val_loss', mode='min', verbose=1, patience=5)"
      ]
    },
    {
      "cell_type": "code",
      "execution_count": 15,
      "metadata": {
        "id": "lsNnkajlbuAu"
      },
      "outputs": [],
      "source": [
        "model.compile(optimizer='adam',\n",
        "              loss='categorical_crossentropy',\n",
        "              metrics=['accuracy'])"
      ]
    },
    {
      "cell_type": "code",
      "execution_count": 16,
      "metadata": {
        "id": "NW5kBtiPckp3"
      },
      "outputs": [],
      "source": [
        "from PIL import ImageFile\n",
        "ImageFile.LOAD_TRUNCATED_IMAGES = True"
      ]
    },
    {
      "cell_type": "code",
      "execution_count": 17,
      "metadata": {
        "colab": {
          "base_uri": "https://localhost:8080/"
        },
        "id": "27U-uiPGZSmW",
        "outputId": "00745fcf-5544-4bec-aa6f-77dbe67f5461"
      },
      "outputs": [
        {
          "output_type": "stream",
          "name": "stdout",
          "text": [
            "Epoch 1/30\n",
            "25/68 [==========>...................] - ETA: 2:59 - loss: 1.4180 - accuracy: 0.5150"
          ]
        },
        {
          "output_type": "stream",
          "name": "stderr",
          "text": [
            "/usr/local/lib/python3.7/dist-packages/PIL/Image.py:960: UserWarning: Palette images with Transparency expressed in bytes should be converted to RGBA images\n",
            "  \"Palette images with Transparency expressed in bytes should be \"\n"
          ]
        },
        {
          "output_type": "stream",
          "name": "stdout",
          "text": [
            "68/68 [==============================] - ETA: 0s - loss: 0.9725 - accuracy: 0.6703"
          ]
        },
        {
          "output_type": "stream",
          "name": "stderr",
          "text": [
            "/usr/local/lib/python3.7/dist-packages/PIL/TiffImagePlugin.py:770: UserWarning: Possibly corrupt EXIF data.  Expecting to read 11 bytes but only got 10. Skipping tag 42037\n",
            "  \" Skipping tag %s\" % (size, len(data), tag)\n"
          ]
        },
        {
          "output_type": "stream",
          "name": "stdout",
          "text": [
            "\b\b\b\b\b\b\b\b\b\b\b\b\b\b\b\b\b\b\b\b\b\b\b\b\b\b\b\b\b\b\b\b\b\b\b\b\b\b\b\b\b\b\b\b\b\b\b\b\b\b\b\b\b\b\b\b\b\b\b\b\b\b\b\b\b\b\b\b\b\b\b\b\b\b\b\b\b\b\b\b\b\b\r68/68 [==============================] - 409s 6s/step - loss: 0.9725 - accuracy: 0.6703 - val_loss: 0.2144 - val_accuracy: 0.9339 - lr: 9.0000e-04\n",
            "Epoch 2/30\n",
            "68/68 [==============================] - 409s 6s/step - loss: 0.4337 - accuracy: 0.8600 - val_loss: 0.1812 - val_accuracy: 0.9483 - lr: 5.6786e-04\n",
            "Epoch 3/30\n",
            "68/68 [==============================] - 409s 6s/step - loss: 0.2955 - accuracy: 0.9098 - val_loss: 0.1383 - val_accuracy: 0.9587 - lr: 3.5830e-04\n",
            "Epoch 4/30\n",
            "68/68 [==============================] - 409s 6s/step - loss: 0.2309 - accuracy: 0.9365 - val_loss: 0.1388 - val_accuracy: 0.9628 - lr: 2.2607e-04\n",
            "Epoch 5/30\n",
            "68/68 [==============================] - 409s 6s/step - loss: 0.1981 - accuracy: 0.9448 - val_loss: 0.1263 - val_accuracy: 0.9669 - lr: 1.4264e-04\n",
            "Epoch 6/30\n",
            "68/68 [==============================] - 407s 6s/step - loss: 0.1788 - accuracy: 0.9503 - val_loss: 0.1311 - val_accuracy: 0.9628 - lr: 9.0000e-05\n",
            "Epoch 7/30\n",
            "68/68 [==============================] - 409s 6s/step - loss: 0.1511 - accuracy: 0.9622 - val_loss: 0.1311 - val_accuracy: 0.9628 - lr: 5.6786e-05\n",
            "Epoch 8/30\n",
            "68/68 [==============================] - 410s 6s/step - loss: 0.1318 - accuracy: 0.9687 - val_loss: 0.1262 - val_accuracy: 0.9628 - lr: 3.5830e-05\n",
            "Epoch 9/30\n",
            "68/68 [==============================] - 408s 6s/step - loss: 0.1431 - accuracy: 0.9715 - val_loss: 0.1294 - val_accuracy: 0.9628 - lr: 2.2607e-05\n",
            "Epoch 10/30\n",
            "68/68 [==============================] - 409s 6s/step - loss: 0.1411 - accuracy: 0.9632 - val_loss: 0.1257 - val_accuracy: 0.9628 - lr: 1.4264e-05\n",
            "Epoch 11/30\n",
            "68/68 [==============================] - 408s 6s/step - loss: 0.1422 - accuracy: 0.9632 - val_loss: 0.1256 - val_accuracy: 0.9628 - lr: 9.0000e-06\n",
            "Epoch 12/30\n",
            "68/68 [==============================] - 410s 6s/step - loss: 0.1280 - accuracy: 0.9724 - val_loss: 0.1265 - val_accuracy: 0.9628 - lr: 5.6786e-06\n",
            "Epoch 13/30\n",
            "68/68 [==============================] - 410s 6s/step - loss: 0.1295 - accuracy: 0.9696 - val_loss: 0.1258 - val_accuracy: 0.9628 - lr: 3.5830e-06\n",
            "Epoch 14/30\n",
            "68/68 [==============================] - 408s 6s/step - loss: 0.1323 - accuracy: 0.9705 - val_loss: 0.1259 - val_accuracy: 0.9628 - lr: 2.2607e-06\n",
            "Epoch 15/30\n",
            "68/68 [==============================] - 409s 6s/step - loss: 0.1331 - accuracy: 0.9696 - val_loss: 0.1261 - val_accuracy: 0.9628 - lr: 1.4264e-06\n",
            "Epoch 16/30\n",
            "68/68 [==============================] - 408s 6s/step - loss: 0.1282 - accuracy: 0.9715 - val_loss: 0.1259 - val_accuracy: 0.9628 - lr: 9.0000e-07\n",
            "Epoch 16: early stopping\n"
          ]
        }
      ],
      "source": [
        "history = model.fit(train_generator,\n",
        "                    validation_data=valid_generator,\n",
        "                    epochs=30,\n",
        "                    batch_size=32,\n",
        "                    callbacks=[lr_scheduler_ed, early_stopping_m],\n",
        "                    verbose=1\n",
        "                    )"
      ]
    },
    {
      "cell_type": "code",
      "execution_count": 18,
      "metadata": {
        "id": "SvvMmfW9a8uW",
        "colab": {
          "base_uri": "https://localhost:8080/"
        },
        "outputId": "e88bcdac-e25a-4d2e-ab7f-30fbd6f918db"
      },
      "outputs": [
        {
          "output_type": "stream",
          "name": "stdout",
          "text": [
            "Model: \"model\"\n",
            "_________________________________________________________________\n",
            " Layer (type)                Output Shape              Param #   \n",
            "=================================================================\n",
            " input_1 (InputLayer)        [(None, 150, 150, 3)]     0         \n",
            "                                                                 \n",
            " block1_conv1 (Conv2D)       (None, 150, 150, 64)      1792      \n",
            "                                                                 \n",
            " block1_conv2 (Conv2D)       (None, 150, 150, 64)      36928     \n",
            "                                                                 \n",
            " block1_pool (MaxPooling2D)  (None, 75, 75, 64)        0         \n",
            "                                                                 \n",
            " block2_conv1 (Conv2D)       (None, 75, 75, 128)       73856     \n",
            "                                                                 \n",
            " block2_conv2 (Conv2D)       (None, 75, 75, 128)       147584    \n",
            "                                                                 \n",
            " block2_pool (MaxPooling2D)  (None, 37, 37, 128)       0         \n",
            "                                                                 \n",
            " block3_conv1 (Conv2D)       (None, 37, 37, 256)       295168    \n",
            "                                                                 \n",
            " block3_conv2 (Conv2D)       (None, 37, 37, 256)       590080    \n",
            "                                                                 \n",
            " block3_conv3 (Conv2D)       (None, 37, 37, 256)       590080    \n",
            "                                                                 \n",
            " block3_conv4 (Conv2D)       (None, 37, 37, 256)       590080    \n",
            "                                                                 \n",
            " block3_pool (MaxPooling2D)  (None, 18, 18, 256)       0         \n",
            "                                                                 \n",
            " block4_conv1 (Conv2D)       (None, 18, 18, 512)       1180160   \n",
            "                                                                 \n",
            " block4_conv2 (Conv2D)       (None, 18, 18, 512)       2359808   \n",
            "                                                                 \n",
            " block4_conv3 (Conv2D)       (None, 18, 18, 512)       2359808   \n",
            "                                                                 \n",
            " block4_conv4 (Conv2D)       (None, 18, 18, 512)       2359808   \n",
            "                                                                 \n",
            " block4_pool (MaxPooling2D)  (None, 9, 9, 512)         0         \n",
            "                                                                 \n",
            " block5_conv1 (Conv2D)       (None, 9, 9, 512)         2359808   \n",
            "                                                                 \n",
            " block5_conv2 (Conv2D)       (None, 9, 9, 512)         2359808   \n",
            "                                                                 \n",
            " block5_conv3 (Conv2D)       (None, 9, 9, 512)         2359808   \n",
            "                                                                 \n",
            " block5_conv4 (Conv2D)       (None, 9, 9, 512)         2359808   \n",
            "                                                                 \n",
            " block5_pool (MaxPooling2D)  (None, 4, 4, 512)         0         \n",
            "                                                                 \n",
            " flatten (Flatten)           (None, 8192)              0         \n",
            "                                                                 \n",
            " dense (Dense)               (None, 512)               4194816   \n",
            "                                                                 \n",
            " dropout (Dropout)           (None, 512)               0         \n",
            "                                                                 \n",
            " dense_1 (Dense)             (None, 5)                 2565      \n",
            "                                                                 \n",
            "=================================================================\n",
            "Total params: 24,221,765\n",
            "Trainable params: 4,197,381\n",
            "Non-trainable params: 20,024,384\n",
            "_________________________________________________________________\n"
          ]
        }
      ],
      "source": [
        "model.summary()"
      ]
    },
    {
      "cell_type": "code",
      "source": [
        "train_loss, train_acc = model.evaluate(train_generator)\n",
        "test_loss, test_acc   = model.evaluate(valid_generator)\n",
        "print(\"final train accuracy = {:.2f} , validation accuracy = {:.2f}\".format(train_acc*100, test_acc*100))"
      ],
      "metadata": {
        "colab": {
          "base_uri": "https://localhost:8080/"
        },
        "id": "CwWD5W_aU8RL",
        "outputId": "3dde6431-b41d-4024-a72b-70f003478dd1"
      },
      "execution_count": 20,
      "outputs": [
        {
          "output_type": "stream",
          "name": "stdout",
          "text": [
            " 4/68 [>.............................] - ETA: 4:24 - loss: 0.1011 - accuracy: 1.0000"
          ]
        },
        {
          "output_type": "stream",
          "name": "stderr",
          "text": [
            "/usr/local/lib/python3.7/dist-packages/PIL/Image.py:960: UserWarning: Palette images with Transparency expressed in bytes should be converted to RGBA images\n",
            "  \"Palette images with Transparency expressed in bytes should be \"\n"
          ]
        },
        {
          "output_type": "stream",
          "name": "stdout",
          "text": [
            "68/68 [==============================] - 281s 4s/step - loss: 0.1126 - accuracy: 0.9779\n",
            "14/31 [============>.................] - ETA: 1:11 - loss: 0.1691 - accuracy: 0.9420"
          ]
        },
        {
          "output_type": "stream",
          "name": "stderr",
          "text": [
            "/usr/local/lib/python3.7/dist-packages/PIL/TiffImagePlugin.py:770: UserWarning: Possibly corrupt EXIF data.  Expecting to read 11 bytes but only got 10. Skipping tag 42037\n",
            "  \" Skipping tag %s\" % (size, len(data), tag)\n"
          ]
        },
        {
          "output_type": "stream",
          "name": "stdout",
          "text": [
            "31/31 [==============================] - 127s 4s/step - loss: 0.1259 - accuracy: 0.9628\n",
            "final train accuracy = 97.79 , validation accuracy = 96.28\n"
          ]
        }
      ]
    },
    {
      "cell_type": "code",
      "execution_count": 21,
      "metadata": {
        "id": "8HgXc54UZzQ2",
        "colab": {
          "base_uri": "https://localhost:8080/",
          "height": 689
        },
        "outputId": "723ff8a4-23b6-4973-b35d-84e6bca36c3a"
      },
      "outputs": [
        {
          "output_type": "stream",
          "name": "stderr",
          "text": [
            "/usr/local/lib/python3.7/dist-packages/ipykernel_launcher.py:4: UserWarning: `Model.predict_generator` is deprecated and will be removed in a future version. Please use `Model.predict`, which supports generators.\n",
            "  after removing the cwd from sys.path.\n",
            "/usr/local/lib/python3.7/dist-packages/PIL/TiffImagePlugin.py:770: UserWarning: Possibly corrupt EXIF data.  Expecting to read 11 bytes but only got 10. Skipping tag 42037\n",
            "  \" Skipping tag %s\" % (size, len(data), tag)\n"
          ]
        },
        {
          "output_type": "stream",
          "name": "stdout",
          "text": [
            "              precision    recall  f1-score   support\n",
            "\n",
            "     downdog       0.99      0.93      0.96        97\n",
            "     goddess       0.99      0.93      0.96        82\n",
            "       plank       0.95      0.99      0.97       115\n",
            "        tree       0.97      0.97      0.97        78\n",
            "    warrior2       0.93      0.98      0.96       112\n",
            "\n",
            "    accuracy                           0.96       484\n",
            "   macro avg       0.97      0.96      0.96       484\n",
            "weighted avg       0.96      0.96      0.96       484\n",
            "\n"
          ]
        },
        {
          "output_type": "execute_result",
          "data": {
            "text/plain": [
              "<matplotlib.axes._subplots.AxesSubplot at 0x7f7166cede50>"
            ]
          },
          "metadata": {},
          "execution_count": 21
        },
        {
          "output_type": "display_data",
          "data": {
            "text/plain": [
              "<Figure size 576x432 with 2 Axes>"
            ],
            "image/png": "[encoded data removed]"
          },
          "metadata": {
            "needs_background": "light"
          }
        }
      ],
      "source": [
        "import pandas as pd\n",
        "import numpy as np\n",
        "import sklearn.metrics as metrics\n",
        "predictions = model.predict_generator(valid_generator)\n",
        "# Get most likely class\n",
        "predicted_classes = np.argmax(predictions, axis=1)\n",
        "true_classes = valid_generator.classes\n",
        "class_labels = list(valid_generator.class_indices.keys())   \n",
        "report = metrics.classification_report(true_classes, predicted_classes, target_names=class_labels)\n",
        "print(report)\n",
        "\n",
        "import seaborn as sns\n",
        "from sklearn.metrics import confusion_matrix,classification_report\n",
        "plt.figure(figsize=(8, 6))\n",
        "sns.heatmap(pd.DataFrame(confusion_matrix(true_classes, predicted_classes)), annot=True, fmt='d', cmap='YlGnBu', alpha=0.8, vmin=0)"
      ]
    },
    {
      "cell_type": "code",
      "execution_count": null,
      "metadata": {
        "id": "F6giyJ2fZ6a3"
      },
      "outputs": [],
      "source": [
        ""
      ]
    }
  ],
  "metadata": {
    "colab": {
      "name": "vgg19_yoga_pose_.ipynb",
      "provenance": []
    },
    "kernelspec": {
      "display_name": "Python 3",
      "name": "python3"
    },
    "language_info": {
      "name": "python"
    }
  },
  "nbformat": 4,
  "nbformat_minor": 0
}